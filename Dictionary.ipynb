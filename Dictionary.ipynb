{
 "cells": [
  {
   "cell_type": "markdown",
   "id": "3822a5c1",
   "metadata": {},
   "source": [
    "#Dictionary can be created by placing a sequence of elements within curly {} braces, separated by ‘comma’\n",
    "#Dictionary holds pairs of values, one being the Key and the other corresponding pair element being its Key:value. \n",
    "#Values in a dictionary can be of any data type and can be duplicated, whereas keys can’t be repeated and must be immutable."
   ]
  },
  {
   "cell_type": "code",
   "execution_count": 1,
   "id": "86eff7b8",
   "metadata": {},
   "outputs": [
    {
     "name": "stdout",
     "output_type": "stream",
     "text": [
      "{'harry': 12, 'Ron': 15, 'Herminon': 18}\n"
     ]
    }
   ],
   "source": [
    "#Creating a dictionary\n",
    "stu_id={}\n",
    "stu_id[\"harry\"]=12\n",
    "stu_id[\"Ron\"]=15\n",
    "stu_id[\"Herminon\"]=18\n",
    "print(stu_id)"
   ]
  },
  {
   "cell_type": "code",
   "execution_count": 2,
   "id": "b3f99e66",
   "metadata": {},
   "outputs": [
    {
     "name": "stdout",
     "output_type": "stream",
     "text": [
      "1\n"
     ]
    }
   ],
   "source": [
    "#retreiving value\n",
    "stu_id = {'Harry':12,'Ron':15,'Hermione':1}\n",
    "value = stu_id['Hermione']\n",
    "print(value)"
   ]
  },
  {
   "cell_type": "code",
   "execution_count": 3,
   "id": "7f34ca43",
   "metadata": {},
   "outputs": [
    {
     "name": "stdout",
     "output_type": "stream",
     "text": [
      "1\n"
     ]
    }
   ],
   "source": [
    "#Get fuction\n",
    "stu_id = {'Harry':12,'Ron':15,'Hermione':1}\n",
    "value = stu_id.get('Hermione')\n",
    "print(value)"
   ]
  },
  {
   "cell_type": "code",
   "execution_count": 4,
   "id": "c14af089",
   "metadata": {},
   "outputs": [
    {
     "name": "stdout",
     "output_type": "stream",
     "text": [
      "{'pencil': 3, 'pen': 4, 'eraser': 2}\n",
      "{'pencil': 6, 'pen': 4, 'eraser': 2}\n"
     ]
    }
   ],
   "source": [
    "#Updating\n",
    "box = {'pencil':3,'pen':4,'eraser':2}\n",
    "print(box)\n",
    "box['pencil']= box['pencil']+3\n",
    "print(box)\n"
   ]
  },
  {
   "cell_type": "code",
   "execution_count": 5,
   "id": "a11ff9fe",
   "metadata": {},
   "outputs": [
    {
     "name": "stdout",
     "output_type": "stream",
     "text": [
      "3\n"
     ]
    }
   ],
   "source": [
    "#length of the dictionary\n",
    "closet = {'shirt':3,'pant':4,'scarf':2}\n",
    "num_items = len(closet)\n",
    "print(num_items)"
   ]
  },
  {
   "cell_type": "code",
   "execution_count": 6,
   "id": "669afc17",
   "metadata": {},
   "outputs": [
    {
     "name": "stdout",
     "output_type": "stream",
     "text": [
      "pencil\n",
      "pen\n",
      "eraser\n"
     ]
    }
   ],
   "source": [
    "#Looping through a Dictionary\n",
    "#Print The key\n",
    "box = {'pencil':3,'pen':4,'eraser':2}\n",
    "for key in box:\n",
    "    print(key)"
   ]
  },
  {
   "cell_type": "code",
   "execution_count": 7,
   "id": "7f79c8a0",
   "metadata": {},
   "outputs": [
    {
     "name": "stdout",
     "output_type": "stream",
     "text": [
      "3\n",
      "4\n",
      "2\n"
     ]
    }
   ],
   "source": [
    "##Print The value\n",
    "box = {'pencil':3,'pen':4,'eraser':2}\n",
    "for key in box:\n",
    "    print(box[key])"
   ]
  },
  {
   "cell_type": "code",
   "execution_count": 8,
   "id": "0e1c78e7",
   "metadata": {},
   "outputs": [
    {
     "name": "stdout",
     "output_type": "stream",
     "text": [
      "3\n",
      "4\n",
      "2\n"
     ]
    }
   ],
   "source": [
    "#The values of the dictionary can also be returned by using the values() function.\n",
    "box = {'pencil':3,'pen':4,'eraser':2}\n",
    "for val in box.values():\n",
    " print(val)"
   ]
  },
  {
   "cell_type": "code",
   "execution_count": 9,
   "id": "b7bf130c",
   "metadata": {},
   "outputs": [
    {
     "name": "stdout",
     "output_type": "stream",
     "text": [
      "pencil 3\n",
      "pen 4\n",
      "eraser 2\n"
     ]
    }
   ],
   "source": [
    "#We can also loop through both keys and values, by using items() function\n",
    "box = {'pencil':3,'pen':4,'eraser':2}\n",
    "for key,val in box.items():\n",
    " print(key,val)"
   ]
  },
  {
   "cell_type": "code",
   "execution_count": 10,
   "id": "5b062b2d",
   "metadata": {},
   "outputs": [
    {
     "name": "stdout",
     "output_type": "stream",
     "text": [
      "dict_keys(['pencil', 'pen', 'eraser'])\n"
     ]
    }
   ],
   "source": [
    "#Using the key() function, we get the keys of the dictionary as a list.\n",
    "box = {'pencil':3,'pen':4,'eraser':2}\n",
    "key_values = box.keys()\n",
    "print(key_values)"
   ]
  },
  {
   "cell_type": "code",
   "execution_count": 11,
   "id": "fd7ff916",
   "metadata": {},
   "outputs": [
    {
     "name": "stdout",
     "output_type": "stream",
     "text": [
      "{'pencil': 3, 'pen': 4, 'eraser': 2, 'cutter': 1}\n",
      "dict_keys(['pencil', 'pen', 'eraser', 'cutter'])\n"
     ]
    }
   ],
   "source": [
    "#If you update the dictionary, then the updated list of keys will be displaye\n",
    "box = {'pencil':3,'pen':4,'eraser':2}\n",
    "key_values = box.keys()\n",
    "box['cutter'] = 1\n",
    "print(box)\n",
    "print(key_values)"
   ]
  },
  {
   "cell_type": "code",
   "execution_count": 13,
   "id": "2011648b",
   "metadata": {},
   "outputs": [
    {
     "name": "stdout",
     "output_type": "stream",
     "text": [
      "Yes\n"
     ]
    }
   ],
   "source": [
    "#Determining if a key exists in Dictionary 1\n",
    "closet = {'shirt':3,'pant':4,'scarf':2}\n",
    "if 'scarf' in closet:\n",
    "    print('Yes')"
   ]
  },
  {
   "cell_type": "code",
   "execution_count": 15,
   "id": "ab5dc2d6",
   "metadata": {},
   "outputs": [
    {
     "name": "stdout",
     "output_type": "stream",
     "text": [
      "True\n",
      "False\n"
     ]
    }
   ],
   "source": [
    "#Determining if a key exists in Dictionary 2\n",
    "closet = {'shirt':3,'pant':4,'scarf':2}\n",
    "print('scarf' in closet)\n",
    "closet = {'shirt':3,'pant':4,'scarf':2}\n",
    "print('shoes' in closet)\n"
   ]
  },
  {
   "cell_type": "code",
   "execution_count": 16,
   "id": "fb4dbb32",
   "metadata": {},
   "outputs": [
    {
     "name": "stdout",
     "output_type": "stream",
     "text": [
      "{'shirt': 3, 'pant': 4, 'scarf': 2, 'shoes': 1}\n"
     ]
    }
   ],
   "source": [
    "#Adding elements\n",
    "closet = {'shirt':3,'pant':4,'scarf':2}\n",
    "closet['shoes'] = 1\n",
    "print(closet)"
   ]
  },
  {
   "cell_type": "code",
   "execution_count": 17,
   "id": "4b504136",
   "metadata": {},
   "outputs": [
    {
     "name": "stdout",
     "output_type": "stream",
     "text": [
      "{'shirt': 3, 'pant': 4, 'scarf': 2, 'shoes': 1}\n"
     ]
    }
   ],
   "source": [
    "# using update() method.\n",
    "closet={'shirt':3, 'pant':4,\n",
    "'scarf':2}\n",
    "closet.update({'shoes':1})\n",
    "print(closet)"
   ]
  },
  {
   "cell_type": "code",
   "execution_count": 18,
   "id": "9557347d",
   "metadata": {},
   "outputs": [
    {
     "name": "stdout",
     "output_type": "stream",
     "text": [
      "{'shirt': 3, 'pant': 4}\n"
     ]
    }
   ],
   "source": [
    "#Removing elements\n",
    "closet = {'shirt':3,'pant':4,'scarf':2}\n",
    "del closet['scarf']\n",
    "print(closet)\n"
   ]
  },
  {
   "cell_type": "code",
   "execution_count": 22,
   "id": "a638d87e",
   "metadata": {},
   "outputs": [
    {
     "name": "stdout",
     "output_type": "stream",
     "text": [
      "['cutter', 'eraser', 'pen']\n"
     ]
    }
   ],
   "source": [
    "#Sorting Dictionary\n",
    "#keys\n",
    "box = {'cutter':3,'pen':4,'eraser':2}\n",
    "ksort = sorted(box.keys())\n",
    "print(ksort)"
   ]
  },
  {
   "cell_type": "code",
   "execution_count": 23,
   "id": "35ca239d",
   "metadata": {},
   "outputs": [
    {
     "name": "stdout",
     "output_type": "stream",
     "text": [
      "[2, 3, 4]\n"
     ]
    }
   ],
   "source": [
    "#values\n",
    "box = {'cutter':3,'pen':4,'eraser':2}\n",
    "ksort = sorted(box.values())\n",
    "print(ksort)"
   ]
  },
  {
   "cell_type": "code",
   "execution_count": 24,
   "id": "edc055f4",
   "metadata": {},
   "outputs": [
    {
     "name": "stdout",
     "output_type": "stream",
     "text": [
      "{'sci-fi': 25, 'mystery': 17, 'mythology': 12}\n"
     ]
    }
   ],
   "source": [
    "#Copying Dictionary\n",
    "fictions = {'sci-fi':25,'mystery':17,'mythology':12}\n",
    "fiction_dict = fictions.copy()\n",
    "print(fiction_dict)"
   ]
  },
  {
   "cell_type": "code",
   "execution_count": 26,
   "id": "9f52e70d",
   "metadata": {},
   "outputs": [
    {
     "name": "stdout",
     "output_type": "stream",
     "text": [
      "{'c': None, 'b': None, 'd': None, 'a': None, 'e': None}\n",
      "{'c': 1, 'b': 1, 'd': 1, 'a': 1, 'e': 1}\n"
     ]
    }
   ],
   "source": [
    "#Demonstrating the behavior with mutable objects\n",
    "seq = {'a', 'b', 'c', 'd', 'e'}\n",
    "res_dict = dict.fromkeys(seq)\n",
    "print(res_dict)\n",
    "res_dict2 = dict.fromkeys(seq, 1)\n",
    "print(res_dict2)"
   ]
  },
  {
   "cell_type": "code",
   "execution_count": 27,
   "id": "3598a9a5",
   "metadata": {},
   "outputs": [
    {
     "name": "stdout",
     "output_type": "stream",
     "text": [
      "{'c': [2, 3], 'b': [2, 3], 'd': [2, 3], 'a': [2, 3], 'e': [2, 3]}\n"
     ]
    }
   ],
   "source": [
    "seq = {'a', 'b', 'c', 'd', 'e'}\n",
    "lis1 = [2, 3]\n",
    "res_dict = dict.fromkeys(seq, lis1)\n",
    "print(res_dict)"
   ]
  },
  {
   "cell_type": "code",
   "execution_count": 28,
   "id": "ea9e359e",
   "metadata": {},
   "outputs": [
    {
     "name": "stdout",
     "output_type": "stream",
     "text": [
      "text = {}\n"
     ]
    }
   ],
   "source": [
    "# dictionary clear()\n",
    "text = {1: \"geeks\", 2: \"for\"}\n",
    "  \n",
    "text.clear()\n",
    "print('text =', text)"
   ]
  },
  {
   "cell_type": "code",
   "execution_count": 32,
   "id": "ed08762d",
   "metadata": {},
   "outputs": [
    {
     "name": "stdout",
     "output_type": "stream",
     "text": [
      "{'Akshat': 1, 'Akash': 2}\n"
     ]
    }
   ],
   "source": [
    "#pop\n",
    "test_dict = {\"Nikhil\": 7, \"Akshat\": 1, \"Akash\": 2}\n",
    "test_dict.pop(\"Nikhil\", 7)\n",
    "print(test_dict)"
   ]
  },
  {
   "cell_type": "code",
   "execution_count": 33,
   "id": "d9a94373",
   "metadata": {},
   "outputs": [
    {
     "name": "stdout",
     "output_type": "stream",
     "text": [
      "('best', 3)\n"
     ]
    }
   ],
   "source": [
    "#pop\n",
    "test_dict = {'Gfg' : 1, 'is' : 2, 'best' : 3}\n",
    "res = test_dict.popitem()\n",
    "print(res)"
   ]
  },
  {
   "cell_type": "code",
   "execution_count": 34,
   "id": "b7bc5023",
   "metadata": {},
   "outputs": [
    {
     "name": "stdout",
     "output_type": "stream",
     "text": [
      "7\n"
     ]
    }
   ],
   "source": [
    "#setdefault\n",
    "dict = {'Name': 'Zara', 'Age': 7}\n",
    "print(dict.setdefault('Age', None))"
   ]
  },
  {
   "cell_type": "code",
   "execution_count": 38,
   "id": "b6b6a9aa",
   "metadata": {},
   "outputs": [
    {
     "name": "stdout",
     "output_type": "stream",
     "text": [
      "<class 'dict'>\n"
     ]
    }
   ],
   "source": [
    "#type\n",
    "dic = { 'Name' : 'Nandini', 'Age' : 19, 'ID' : 2541997 }\n",
    "print (type(dic))"
   ]
  },
  {
   "cell_type": "code",
   "execution_count": null,
   "id": "f6280674",
   "metadata": {},
   "outputs": [],
   "source": []
  }
 ],
 "metadata": {
  "kernelspec": {
   "display_name": "Python 3 (ipykernel)",
   "language": "python",
   "name": "python3"
  },
  "language_info": {
   "codemirror_mode": {
    "name": "ipython",
    "version": 3
   },
   "file_extension": ".py",
   "mimetype": "text/x-python",
   "name": "python",
   "nbconvert_exporter": "python",
   "pygments_lexer": "ipython3",
   "version": "3.9.7"
  }
 },
 "nbformat": 4,
 "nbformat_minor": 5
}
